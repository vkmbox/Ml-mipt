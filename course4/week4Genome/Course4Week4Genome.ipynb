{
 "cells": [
  {
   "cell_type": "code",
   "execution_count": 17,
   "metadata": {},
   "outputs": [],
   "source": [
    "import numpy as np\n",
    "import pandas as pd\n",
    "from scipy import stats\n",
    "import statsmodels.stats.multitest as smm"
   ]
  },
  {
   "cell_type": "code",
   "execution_count": 2,
   "metadata": {},
   "outputs": [
    {
     "name": "stdout",
     "output_type": "stream",
     "text": [
      "Populating the interactive namespace from numpy and matplotlib\n"
     ]
    }
   ],
   "source": [
    "%pylab inline"
   ]
  },
  {
   "cell_type": "code",
   "execution_count": 3,
   "metadata": {},
   "outputs": [
    {
     "data": {
      "text/html": [
       "<div>\n",
       "<style scoped>\n",
       "    .dataframe tbody tr th:only-of-type {\n",
       "        vertical-align: middle;\n",
       "    }\n",
       "\n",
       "    .dataframe tbody tr th {\n",
       "        vertical-align: top;\n",
       "    }\n",
       "\n",
       "    .dataframe thead th {\n",
       "        text-align: right;\n",
       "    }\n",
       "</style>\n",
       "<table border=\"1\" class=\"dataframe\">\n",
       "  <thead>\n",
       "    <tr style=\"text-align: right;\">\n",
       "      <th></th>\n",
       "      <th>Patient_id</th>\n",
       "      <th>Diagnosis</th>\n",
       "      <th>LOC643837</th>\n",
       "      <th>LOC100130417</th>\n",
       "      <th>SAMD11</th>\n",
       "      <th>NOC2L</th>\n",
       "      <th>KLHL17</th>\n",
       "      <th>PLEKHN1</th>\n",
       "      <th>C1orf170</th>\n",
       "      <th>HES4</th>\n",
       "      <th>...</th>\n",
       "      <th>CLIC2</th>\n",
       "      <th>RPS4Y1</th>\n",
       "      <th>ZFY</th>\n",
       "      <th>PRKY</th>\n",
       "      <th>USP9Y</th>\n",
       "      <th>DDX3Y</th>\n",
       "      <th>CD24</th>\n",
       "      <th>CYorf15B</th>\n",
       "      <th>KDM5D</th>\n",
       "      <th>EIF1AY</th>\n",
       "    </tr>\n",
       "  </thead>\n",
       "  <tbody>\n",
       "    <tr>\n",
       "      <td>0</td>\n",
       "      <td>STT5425_Breast_001_normal</td>\n",
       "      <td>normal</td>\n",
       "      <td>1.257614</td>\n",
       "      <td>2.408148</td>\n",
       "      <td>13.368622</td>\n",
       "      <td>9.494779</td>\n",
       "      <td>20.880435</td>\n",
       "      <td>12.722017</td>\n",
       "      <td>9.494779</td>\n",
       "      <td>54.349694</td>\n",
       "      <td>...</td>\n",
       "      <td>4.761250</td>\n",
       "      <td>1.257614</td>\n",
       "      <td>1.257614</td>\n",
       "      <td>1.257614</td>\n",
       "      <td>1.257614</td>\n",
       "      <td>1.257614</td>\n",
       "      <td>23.268694</td>\n",
       "      <td>1.257614</td>\n",
       "      <td>1.257614</td>\n",
       "      <td>1.257614</td>\n",
       "    </tr>\n",
       "    <tr>\n",
       "      <td>1</td>\n",
       "      <td>STT5427_Breast_023_normal</td>\n",
       "      <td>normal</td>\n",
       "      <td>4.567931</td>\n",
       "      <td>16.602734</td>\n",
       "      <td>42.477752</td>\n",
       "      <td>25.562376</td>\n",
       "      <td>23.221137</td>\n",
       "      <td>11.622386</td>\n",
       "      <td>14.330573</td>\n",
       "      <td>72.445474</td>\n",
       "      <td>...</td>\n",
       "      <td>6.871902</td>\n",
       "      <td>1.815112</td>\n",
       "      <td>1.815112</td>\n",
       "      <td>1.815112</td>\n",
       "      <td>1.815112</td>\n",
       "      <td>1.815112</td>\n",
       "      <td>10.427023</td>\n",
       "      <td>1.815112</td>\n",
       "      <td>1.815112</td>\n",
       "      <td>1.815112</td>\n",
       "    </tr>\n",
       "    <tr>\n",
       "      <td>2</td>\n",
       "      <td>STT5430_Breast_002_normal</td>\n",
       "      <td>normal</td>\n",
       "      <td>2.077597</td>\n",
       "      <td>3.978294</td>\n",
       "      <td>12.863214</td>\n",
       "      <td>13.728915</td>\n",
       "      <td>14.543176</td>\n",
       "      <td>14.141907</td>\n",
       "      <td>6.232790</td>\n",
       "      <td>57.011005</td>\n",
       "      <td>...</td>\n",
       "      <td>7.096343</td>\n",
       "      <td>2.077597</td>\n",
       "      <td>2.077597</td>\n",
       "      <td>2.077597</td>\n",
       "      <td>2.077597</td>\n",
       "      <td>2.077597</td>\n",
       "      <td>22.344226</td>\n",
       "      <td>2.077597</td>\n",
       "      <td>2.077597</td>\n",
       "      <td>2.077597</td>\n",
       "    </tr>\n",
       "    <tr>\n",
       "      <td>3</td>\n",
       "      <td>STT5439_Breast_003_normal</td>\n",
       "      <td>normal</td>\n",
       "      <td>2.066576</td>\n",
       "      <td>8.520713</td>\n",
       "      <td>14.466035</td>\n",
       "      <td>7.823932</td>\n",
       "      <td>8.520713</td>\n",
       "      <td>2.066576</td>\n",
       "      <td>10.870009</td>\n",
       "      <td>53.292034</td>\n",
       "      <td>...</td>\n",
       "      <td>5.200770</td>\n",
       "      <td>2.066576</td>\n",
       "      <td>2.066576</td>\n",
       "      <td>2.066576</td>\n",
       "      <td>2.066576</td>\n",
       "      <td>2.066576</td>\n",
       "      <td>49.295538</td>\n",
       "      <td>2.066576</td>\n",
       "      <td>2.066576</td>\n",
       "      <td>2.066576</td>\n",
       "    </tr>\n",
       "    <tr>\n",
       "      <td>4</td>\n",
       "      <td>STT5441_Breast_004_normal</td>\n",
       "      <td>normal</td>\n",
       "      <td>2.613616</td>\n",
       "      <td>3.434965</td>\n",
       "      <td>12.682222</td>\n",
       "      <td>10.543189</td>\n",
       "      <td>26.688686</td>\n",
       "      <td>12.484822</td>\n",
       "      <td>1.364917</td>\n",
       "      <td>67.140393</td>\n",
       "      <td>...</td>\n",
       "      <td>11.227770</td>\n",
       "      <td>1.364917</td>\n",
       "      <td>1.364917</td>\n",
       "      <td>1.364917</td>\n",
       "      <td>1.364917</td>\n",
       "      <td>1.364917</td>\n",
       "      <td>23.627911</td>\n",
       "      <td>1.364917</td>\n",
       "      <td>1.364917</td>\n",
       "      <td>1.364917</td>\n",
       "    </tr>\n",
       "  </tbody>\n",
       "</table>\n",
       "<p>5 rows × 15750 columns</p>\n",
       "</div>"
      ],
      "text/plain": [
       "                  Patient_id Diagnosis  LOC643837  LOC100130417     SAMD11  \\\n",
       "0  STT5425_Breast_001_normal    normal   1.257614      2.408148  13.368622   \n",
       "1  STT5427_Breast_023_normal    normal   4.567931     16.602734  42.477752   \n",
       "2  STT5430_Breast_002_normal    normal   2.077597      3.978294  12.863214   \n",
       "3  STT5439_Breast_003_normal    normal   2.066576      8.520713  14.466035   \n",
       "4  STT5441_Breast_004_normal    normal   2.613616      3.434965  12.682222   \n",
       "\n",
       "       NOC2L     KLHL17    PLEKHN1   C1orf170       HES4  ...      CLIC2  \\\n",
       "0   9.494779  20.880435  12.722017   9.494779  54.349694  ...   4.761250   \n",
       "1  25.562376  23.221137  11.622386  14.330573  72.445474  ...   6.871902   \n",
       "2  13.728915  14.543176  14.141907   6.232790  57.011005  ...   7.096343   \n",
       "3   7.823932   8.520713   2.066576  10.870009  53.292034  ...   5.200770   \n",
       "4  10.543189  26.688686  12.484822   1.364917  67.140393  ...  11.227770   \n",
       "\n",
       "     RPS4Y1       ZFY      PRKY     USP9Y     DDX3Y       CD24  CYorf15B  \\\n",
       "0  1.257614  1.257614  1.257614  1.257614  1.257614  23.268694  1.257614   \n",
       "1  1.815112  1.815112  1.815112  1.815112  1.815112  10.427023  1.815112   \n",
       "2  2.077597  2.077597  2.077597  2.077597  2.077597  22.344226  2.077597   \n",
       "3  2.066576  2.066576  2.066576  2.066576  2.066576  49.295538  2.066576   \n",
       "4  1.364917  1.364917  1.364917  1.364917  1.364917  23.627911  1.364917   \n",
       "\n",
       "      KDM5D    EIF1AY  \n",
       "0  1.257614  1.257614  \n",
       "1  1.815112  1.815112  \n",
       "2  2.077597  2.077597  \n",
       "3  2.066576  2.066576  \n",
       "4  1.364917  1.364917  \n",
       "\n",
       "[5 rows x 15750 columns]"
      ]
     },
     "execution_count": 3,
     "metadata": {},
     "output_type": "execute_result"
    }
   ],
   "source": [
    "raw = pd.read_csv(\"h:\\\\MyProj\\\\Courcera\\\\Ml-mipt\\\\course4\\\\week4Genome\\\\gene_high_throughput_sequencing.csv\", sep=\",\") \n",
    "raw.head()"
   ]
  },
  {
   "cell_type": "code",
   "execution_count": 26,
   "metadata": {},
   "outputs": [
    {
     "data": {
      "text/plain": [
       "2.4639219315000003"
      ]
     },
     "execution_count": 26,
     "metadata": {},
     "output_type": "execute_result"
    }
   ],
   "source": [
    "raw['LOC643837'].mean()"
   ]
  },
  {
   "cell_type": "code",
   "execution_count": 4,
   "metadata": {
    "scrolled": true
   },
   "outputs": [
    {
     "data": {
      "text/plain": [
       "early neoplasia    25\n",
       "normal             24\n",
       "cancer             23\n",
       "Name: Diagnosis, dtype: int64"
      ]
     },
     "execution_count": 4,
     "metadata": {},
     "output_type": "execute_result"
    }
   ],
   "source": [
    "early = raw.loc[raw['Diagnosis'] == 'early neoplasia']\n",
    "normal = raw.loc[raw['Diagnosis'] == 'normal']\n",
    "cancer = raw.loc[raw['Diagnosis'] == 'cancer']\n",
    "raw.Diagnosis.value_counts()"
   ]
  },
  {
   "cell_type": "markdown",
   "metadata": {},
   "source": [
    "##### Часть 1: применение t-критерия Стьюдента\n",
    "В первой части вам нужно будет применить критерий Стьюдента для проверки гипотезы о равенстве средних в двух независимых выборках. Применить критерий для каждого гена нужно будет дважды:\n",
    "\n",
    "для групп normal (control) и early neoplasia (treatment)\n",
    "для групп early neoplasia (control) и cancer (treatment)\n",
    "В качестве ответа в этой части задания необходимо указать количество статистически значимых отличий, которые вы нашли с помощью t-критерия Стьюдента, то есть число генов, у которых p-value этого теста оказался меньше, чем уровень значимости."
   ]
  },
  {
   "cell_type": "code",
   "execution_count": 14,
   "metadata": {},
   "outputs": [
    {
     "name": "stdout",
     "output_type": "stream",
     "text": [
      "normal_early: 1575\n"
     ]
    }
   ],
   "source": [
    "normal_early = 0\n",
    "for column in normal:\n",
    "    if (column != 'Patient_id') & (column != 'Diagnosis'):\n",
    "        statistic, pvalue = stats.ttest_ind(normal[column], early[column], equal_var = False)\n",
    "        if (pvalue<0.05):\n",
    "            normal_early = normal_early + 1\n",
    "            \n",
    "print(\"normal_early:\", normal_early)"
   ]
  },
  {
   "cell_type": "code",
   "execution_count": 16,
   "metadata": {},
   "outputs": [
    {
     "name": "stdout",
     "output_type": "stream",
     "text": [
      "early_cancer: 3490\n"
     ]
    }
   ],
   "source": [
    "early_cancer = 0\n",
    "for column in early:\n",
    "    if (column != 'Patient_id') & (column != 'Diagnosis'):\n",
    "        statistic, pvalue = stats.ttest_ind(early[column], cancer[column], equal_var = False)\n",
    "        if (pvalue<0.05):\n",
    "            early_cancer = early_cancer + 1\n",
    "            \n",
    "print(\"early_cancer:\", early_cancer)"
   ]
  },
  {
   "cell_type": "markdown",
   "metadata": {},
   "source": [
    "##### Часть 2: поправка методом Холма\n",
    "В этой части задания нужно будет применить поправку Холма для получившихся двух наборов достигаемых уровней значимости из предыдущей части. Обратите внимание, что поскольку вы будете делать поправку для каждого из двух наборов p-value отдельно, то проблема, связанная с множественной проверкой останется.\n",
    "\n",
    "Для того, чтобы ее устранить, достаточно воспользоваться поправкой Бонферрони, то есть использовать уровень значимости 0.05 / 2 вместо 0.05 для дальнейшего уточнения значений p-value c помощью метода Холма.\n",
    "\n",
    "В качестве ответа к этому заданию требуется ввести количество значимых отличий в каждой группе после того, как произведена коррекция Холма-Бонферрони. Причем это число нужно ввести с учетом практической значимости: посчитайте для каждого значимого изменения fold change и выпишите в ответ число таких значимых изменений, абсолютное значение fold change которых больше, чем 1.5"
   ]
  },
  {
   "cell_type": "markdown",
   "metadata": {},
   "source": [
    "Обратите внимание, что\n",
    "\n",
    "применять поправку на множественную проверку нужно ко всем значениям достигаемых уровней значимости, а не только для тех, которые меньше значения уровня доверия.\n",
    "при использовании поправки на уровне значимости 0.025 меняются значения достигаемого уровня значимости, но не меняется значение уровня доверия (то есть для отбора значимых изменений скорректированные значения уровня значимости нужно сравнивать с порогом 0.025, а не 0.05)!"
   ]
  },
  {
   "cell_type": "code",
   "execution_count": 46,
   "metadata": {},
   "outputs": [],
   "source": [
    "def get_pvalues(aa, bb, alpha = 0.025, method = 'holm'):\n",
    "    data = []\n",
    "    for column in aa:\n",
    "        if (column != 'Patient_id') & (column != 'Diagnosis'):\n",
    "            statistic, pvalue = stats.ttest_ind(aa[column], bb[column], equal_var = False)\n",
    "            amean = aa[column].mean()\n",
    "            bmean = bb[column].mean()\n",
    "            if (amean > bmean):\n",
    "                fc = amean/bmean\n",
    "            else:\n",
    "                fc = bmean/amean\n",
    "            data.append([column, fc, pvalue])\n",
    "#            data.append([column, pvalue])\n",
    "    data_frame = pd.DataFrame.from_records(data)\n",
    "    data_frame.columns = ['gene_name', 'fold_change_abs', 'pvalue']\n",
    "#    data_frame.columns = ['gene_name', 'pvalue']\n",
    "    reject, p_corrected, a1, a2 = smm.multipletests(data_frame.pvalue, alpha, method)\n",
    "    data_frame['pvalue_corrected'] = p_corrected\n",
    "    data_frame['reject'] = reject\n",
    "    return data_frame"
   ]
  },
  {
   "cell_type": "code",
   "execution_count": 47,
   "metadata": {},
   "outputs": [
    {
     "data": {
      "text/html": [
       "<div>\n",
       "<style scoped>\n",
       "    .dataframe tbody tr th:only-of-type {\n",
       "        vertical-align: middle;\n",
       "    }\n",
       "\n",
       "    .dataframe tbody tr th {\n",
       "        vertical-align: top;\n",
       "    }\n",
       "\n",
       "    .dataframe thead th {\n",
       "        text-align: right;\n",
       "    }\n",
       "</style>\n",
       "<table border=\"1\" class=\"dataframe\">\n",
       "  <thead>\n",
       "    <tr style=\"text-align: right;\">\n",
       "      <th></th>\n",
       "      <th>gene_name</th>\n",
       "      <th>fold_change_abs</th>\n",
       "      <th>pvalue</th>\n",
       "      <th>pvalue_corrected</th>\n",
       "      <th>reject</th>\n",
       "    </tr>\n",
       "  </thead>\n",
       "  <tbody>\n",
       "    <tr>\n",
       "      <td>7244</td>\n",
       "      <td>PCSK4</td>\n",
       "      <td>1.509785</td>\n",
       "      <td>7.955435e-07</td>\n",
       "      <td>0.012527</td>\n",
       "      <td>True</td>\n",
       "    </tr>\n",
       "    <tr>\n",
       "      <td>9820</td>\n",
       "      <td>EEF1A2</td>\n",
       "      <td>1.974868</td>\n",
       "      <td>8.498742e-08</td>\n",
       "      <td>0.001338</td>\n",
       "      <td>True</td>\n",
       "    </tr>\n",
       "  </tbody>\n",
       "</table>\n",
       "</div>"
      ],
      "text/plain": [
       "     gene_name  fold_change_abs        pvalue  pvalue_corrected  reject\n",
       "7244     PCSK4         1.509785  7.955435e-07          0.012527    True\n",
       "9820    EEF1A2         1.974868  8.498742e-08          0.001338    True"
      ]
     },
     "execution_count": 47,
     "metadata": {},
     "output_type": "execute_result"
    }
   ],
   "source": [
    "raw_normal_early = get_pvalues(normal,early,  0.025)\n",
    "df_normal_early = raw_normal_early.loc[raw_normal_early['reject'] == True]\n",
    "df_normal_early.head()"
   ]
  },
  {
   "cell_type": "code",
   "execution_count": 49,
   "metadata": {},
   "outputs": [
    {
     "name": "stdout",
     "output_type": "stream",
     "text": [
      "<class 'pandas.core.frame.DataFrame'>\n",
      "Int64Index: 2 entries, 7244 to 9820\n",
      "Data columns (total 5 columns):\n",
      "gene_name           2 non-null object\n",
      "fold_change_abs     2 non-null float64\n",
      "pvalue              2 non-null float64\n",
      "pvalue_corrected    2 non-null float64\n",
      "reject              2 non-null bool\n",
      "dtypes: bool(1), float64(3), object(1)\n",
      "memory usage: 82.0+ bytes\n"
     ]
    }
   ],
   "source": [
    "#raw_normal_early.sort_values(by='pvalue_corrected', ascending=True)\n",
    "df_normal_early.info()"
   ]
  },
  {
   "cell_type": "code",
   "execution_count": 53,
   "metadata": {},
   "outputs": [
    {
     "data": {
      "text/html": [
       "<div>\n",
       "<style scoped>\n",
       "    .dataframe tbody tr th:only-of-type {\n",
       "        vertical-align: middle;\n",
       "    }\n",
       "\n",
       "    .dataframe tbody tr th {\n",
       "        vertical-align: top;\n",
       "    }\n",
       "\n",
       "    .dataframe thead th {\n",
       "        text-align: right;\n",
       "    }\n",
       "</style>\n",
       "<table border=\"1\" class=\"dataframe\">\n",
       "  <thead>\n",
       "    <tr style=\"text-align: right;\">\n",
       "      <th></th>\n",
       "      <th>gene_name</th>\n",
       "      <th>fold_change_abs</th>\n",
       "      <th>pvalue</th>\n",
       "      <th>pvalue_corrected</th>\n",
       "      <th>reject</th>\n",
       "    </tr>\n",
       "  </thead>\n",
       "  <tbody>\n",
       "    <tr>\n",
       "      <td>0</td>\n",
       "      <td>LOC643837</td>\n",
       "      <td>1.148593</td>\n",
       "      <td>0.413735</td>\n",
       "      <td>1.0</td>\n",
       "      <td>False</td>\n",
       "    </tr>\n",
       "    <tr>\n",
       "      <td>1</td>\n",
       "      <td>LOC100130417</td>\n",
       "      <td>1.064871</td>\n",
       "      <td>0.653429</td>\n",
       "      <td>1.0</td>\n",
       "      <td>False</td>\n",
       "    </tr>\n",
       "    <tr>\n",
       "      <td>2</td>\n",
       "      <td>SAMD11</td>\n",
       "      <td>1.278517</td>\n",
       "      <td>0.079556</td>\n",
       "      <td>1.0</td>\n",
       "      <td>False</td>\n",
       "    </tr>\n",
       "    <tr>\n",
       "      <td>3</td>\n",
       "      <td>NOC2L</td>\n",
       "      <td>1.092635</td>\n",
       "      <td>0.287581</td>\n",
       "      <td>1.0</td>\n",
       "      <td>False</td>\n",
       "    </tr>\n",
       "    <tr>\n",
       "      <td>4</td>\n",
       "      <td>KLHL17</td>\n",
       "      <td>1.036574</td>\n",
       "      <td>0.463292</td>\n",
       "      <td>1.0</td>\n",
       "      <td>False</td>\n",
       "    </tr>\n",
       "  </tbody>\n",
       "</table>\n",
       "</div>"
      ],
      "text/plain": [
       "      gene_name  fold_change_abs    pvalue  pvalue_corrected  reject\n",
       "0     LOC643837         1.148593  0.413735               1.0   False\n",
       "1  LOC100130417         1.064871  0.653429               1.0   False\n",
       "2        SAMD11         1.278517  0.079556               1.0   False\n",
       "3         NOC2L         1.092635  0.287581               1.0   False\n",
       "4        KLHL17         1.036574  0.463292               1.0   False"
      ]
     },
     "execution_count": 53,
     "metadata": {},
     "output_type": "execute_result"
    }
   ],
   "source": [
    "raw_early_cancer = get_pvalues(early,cancer,  0.025)\n",
    "raw_early_cancer.head()"
   ]
  },
  {
   "cell_type": "code",
   "execution_count": 55,
   "metadata": {},
   "outputs": [
    {
     "data": {
      "text/html": [
       "<div>\n",
       "<style scoped>\n",
       "    .dataframe tbody tr th:only-of-type {\n",
       "        vertical-align: middle;\n",
       "    }\n",
       "\n",
       "    .dataframe tbody tr th {\n",
       "        vertical-align: top;\n",
       "    }\n",
       "\n",
       "    .dataframe thead th {\n",
       "        text-align: right;\n",
       "    }\n",
       "</style>\n",
       "<table border=\"1\" class=\"dataframe\">\n",
       "  <thead>\n",
       "    <tr style=\"text-align: right;\">\n",
       "      <th></th>\n",
       "      <th>gene_name</th>\n",
       "      <th>fold_change_abs</th>\n",
       "      <th>pvalue</th>\n",
       "      <th>pvalue_corrected</th>\n",
       "      <th>reject</th>\n",
       "    </tr>\n",
       "  </thead>\n",
       "  <tbody>\n",
       "    <tr>\n",
       "      <td>47</td>\n",
       "      <td>GABRD</td>\n",
       "      <td>1.843860</td>\n",
       "      <td>2.276043e-07</td>\n",
       "      <td>0.003575</td>\n",
       "      <td>True</td>\n",
       "    </tr>\n",
       "    <tr>\n",
       "      <td>283</td>\n",
       "      <td>EXTL1</td>\n",
       "      <td>2.383210</td>\n",
       "      <td>1.087046e-07</td>\n",
       "      <td>0.001709</td>\n",
       "      <td>True</td>\n",
       "    </tr>\n",
       "    <tr>\n",
       "      <td>316</td>\n",
       "      <td>CD164L2</td>\n",
       "      <td>1.997381</td>\n",
       "      <td>1.002085e-06</td>\n",
       "      <td>0.015708</td>\n",
       "      <td>True</td>\n",
       "    </tr>\n",
       "    <tr>\n",
       "      <td>1105</td>\n",
       "      <td>NES</td>\n",
       "      <td>1.693428</td>\n",
       "      <td>1.041679e-07</td>\n",
       "      <td>0.001637</td>\n",
       "      <td>True</td>\n",
       "    </tr>\n",
       "    <tr>\n",
       "      <td>1238</td>\n",
       "      <td>FMO2</td>\n",
       "      <td>1.795640</td>\n",
       "      <td>1.103311e-06</td>\n",
       "      <td>0.017292</td>\n",
       "      <td>True</td>\n",
       "    </tr>\n",
       "  </tbody>\n",
       "</table>\n",
       "</div>"
      ],
      "text/plain": [
       "     gene_name  fold_change_abs        pvalue  pvalue_corrected  reject\n",
       "47       GABRD         1.843860  2.276043e-07          0.003575    True\n",
       "283      EXTL1         2.383210  1.087046e-07          0.001709    True\n",
       "316    CD164L2         1.997381  1.002085e-06          0.015708    True\n",
       "1105       NES         1.693428  1.041679e-07          0.001637    True\n",
       "1238      FMO2         1.795640  1.103311e-06          0.017292    True"
      ]
     },
     "execution_count": 55,
     "metadata": {},
     "output_type": "execute_result"
    }
   ],
   "source": [
    "df_early_cancer = raw_early_cancer.loc[(raw_early_cancer['reject'] == True) & (raw_early_cancer['fold_change_abs']> 1.5)]\n",
    "df_early_cancer.head()"
   ]
  },
  {
   "cell_type": "code",
   "execution_count": 56,
   "metadata": {},
   "outputs": [
    {
     "name": "stdout",
     "output_type": "stream",
     "text": [
      "<class 'pandas.core.frame.DataFrame'>\n",
      "Int64Index: 77 entries, 47 to 15703\n",
      "Data columns (total 5 columns):\n",
      "gene_name           77 non-null object\n",
      "fold_change_abs     77 non-null float64\n",
      "pvalue              77 non-null float64\n",
      "pvalue_corrected    77 non-null float64\n",
      "reject              77 non-null bool\n",
      "dtypes: bool(1), float64(3), object(1)\n",
      "memory usage: 3.1+ KB\n"
     ]
    }
   ],
   "source": [
    "df_early_cancer.info()"
   ]
  },
  {
   "cell_type": "markdown",
   "metadata": {},
   "source": [
    "##### Часть 3: поправка методом Бенджамини-Хохберга\n",
    "Данная часть задания аналогична второй части за исключением того, что нужно будет использовать метод Бенджамини-Хохберга.\n",
    "\n",
    "Обратите внимание, что методы коррекции, которые контролируют FDR, допускает больше ошибок первого рода и имеют большую мощность, чем методы, контролирующие FWER. Большая мощность означает, что эти методы будут совершать меньше ошибок второго рода (то есть будут лучше улавливать отклонения от ${H_0}$, когда они есть, и будут чаще отклонять ${H_0}$, когда отличий нет).\n",
    "\n",
    "В качестве ответа к этому заданию требуется ввести количество значимых отличий в каждой группе после того, как произведена коррекция Бенджамини-Хохберга, причем так же, как и во второй части, считать только такие отличия, у которых abs(fold change) > 1.5."
   ]
  },
  {
   "cell_type": "code",
   "execution_count": 57,
   "metadata": {},
   "outputs": [
    {
     "data": {
      "text/html": [
       "<div>\n",
       "<style scoped>\n",
       "    .dataframe tbody tr th:only-of-type {\n",
       "        vertical-align: middle;\n",
       "    }\n",
       "\n",
       "    .dataframe tbody tr th {\n",
       "        vertical-align: top;\n",
       "    }\n",
       "\n",
       "    .dataframe thead th {\n",
       "        text-align: right;\n",
       "    }\n",
       "</style>\n",
       "<table border=\"1\" class=\"dataframe\">\n",
       "  <thead>\n",
       "    <tr style=\"text-align: right;\">\n",
       "      <th></th>\n",
       "      <th>gene_name</th>\n",
       "      <th>fold_change_abs</th>\n",
       "      <th>pvalue</th>\n",
       "      <th>pvalue_corrected</th>\n",
       "      <th>reject</th>\n",
       "    </tr>\n",
       "  </thead>\n",
       "  <tbody>\n",
       "    <tr>\n",
       "      <td>4627</td>\n",
       "      <td>TMEM63C</td>\n",
       "      <td>1.663826</td>\n",
       "      <td>2.222228e-06</td>\n",
       "      <td>0.008749</td>\n",
       "      <td>True</td>\n",
       "    </tr>\n",
       "    <tr>\n",
       "      <td>7244</td>\n",
       "      <td>PCSK4</td>\n",
       "      <td>1.509785</td>\n",
       "      <td>7.955435e-07</td>\n",
       "      <td>0.006264</td>\n",
       "      <td>True</td>\n",
       "    </tr>\n",
       "    <tr>\n",
       "      <td>8250</td>\n",
       "      <td>CACNG8</td>\n",
       "      <td>1.754951</td>\n",
       "      <td>2.015472e-06</td>\n",
       "      <td>0.008749</td>\n",
       "      <td>True</td>\n",
       "    </tr>\n",
       "    <tr>\n",
       "      <td>9820</td>\n",
       "      <td>EEF1A2</td>\n",
       "      <td>1.974868</td>\n",
       "      <td>8.498742e-08</td>\n",
       "      <td>0.001338</td>\n",
       "      <td>True</td>\n",
       "    </tr>\n",
       "  </tbody>\n",
       "</table>\n",
       "</div>"
      ],
      "text/plain": [
       "     gene_name  fold_change_abs        pvalue  pvalue_corrected  reject\n",
       "4627   TMEM63C         1.663826  2.222228e-06          0.008749    True\n",
       "7244     PCSK4         1.509785  7.955435e-07          0.006264    True\n",
       "8250    CACNG8         1.754951  2.015472e-06          0.008749    True\n",
       "9820    EEF1A2         1.974868  8.498742e-08          0.001338    True"
      ]
     },
     "execution_count": 57,
     "metadata": {},
     "output_type": "execute_result"
    }
   ],
   "source": [
    "raw_normal_early_bh = get_pvalues(normal,early,  0.025, 'fdr_bh')\n",
    "df_normal_early_bh = raw_normal_early_bh.loc[raw_normal_early_bh['reject'] == True]\n",
    "df_normal_early_bh.head()"
   ]
  },
  {
   "cell_type": "code",
   "execution_count": 58,
   "metadata": {},
   "outputs": [
    {
     "name": "stdout",
     "output_type": "stream",
     "text": [
      "<class 'pandas.core.frame.DataFrame'>\n",
      "Int64Index: 4 entries, 4627 to 9820\n",
      "Data columns (total 5 columns):\n",
      "gene_name           4 non-null object\n",
      "fold_change_abs     4 non-null float64\n",
      "pvalue              4 non-null float64\n",
      "pvalue_corrected    4 non-null float64\n",
      "reject              4 non-null bool\n",
      "dtypes: bool(1), float64(3), object(1)\n",
      "memory usage: 164.0+ bytes\n"
     ]
    }
   ],
   "source": [
    "df_normal_early_bh.info()"
   ]
  },
  {
   "cell_type": "code",
   "execution_count": 59,
   "metadata": {},
   "outputs": [
    {
     "data": {
      "text/html": [
       "<div>\n",
       "<style scoped>\n",
       "    .dataframe tbody tr th:only-of-type {\n",
       "        vertical-align: middle;\n",
       "    }\n",
       "\n",
       "    .dataframe tbody tr th {\n",
       "        vertical-align: top;\n",
       "    }\n",
       "\n",
       "    .dataframe thead th {\n",
       "        text-align: right;\n",
       "    }\n",
       "</style>\n",
       "<table border=\"1\" class=\"dataframe\">\n",
       "  <thead>\n",
       "    <tr style=\"text-align: right;\">\n",
       "      <th></th>\n",
       "      <th>gene_name</th>\n",
       "      <th>fold_change_abs</th>\n",
       "      <th>pvalue</th>\n",
       "      <th>pvalue_corrected</th>\n",
       "      <th>reject</th>\n",
       "    </tr>\n",
       "  </thead>\n",
       "  <tbody>\n",
       "    <tr>\n",
       "      <td>0</td>\n",
       "      <td>LOC643837</td>\n",
       "      <td>1.148593</td>\n",
       "      <td>0.413735</td>\n",
       "      <td>0.675195</td>\n",
       "      <td>False</td>\n",
       "    </tr>\n",
       "    <tr>\n",
       "      <td>1</td>\n",
       "      <td>LOC100130417</td>\n",
       "      <td>1.064871</td>\n",
       "      <td>0.653429</td>\n",
       "      <td>0.836406</td>\n",
       "      <td>False</td>\n",
       "    </tr>\n",
       "    <tr>\n",
       "      <td>2</td>\n",
       "      <td>SAMD11</td>\n",
       "      <td>1.278517</td>\n",
       "      <td>0.079556</td>\n",
       "      <td>0.288873</td>\n",
       "      <td>False</td>\n",
       "    </tr>\n",
       "    <tr>\n",
       "      <td>3</td>\n",
       "      <td>NOC2L</td>\n",
       "      <td>1.092635</td>\n",
       "      <td>0.287581</td>\n",
       "      <td>0.563007</td>\n",
       "      <td>False</td>\n",
       "    </tr>\n",
       "    <tr>\n",
       "      <td>4</td>\n",
       "      <td>KLHL17</td>\n",
       "      <td>1.036574</td>\n",
       "      <td>0.463292</td>\n",
       "      <td>0.712214</td>\n",
       "      <td>False</td>\n",
       "    </tr>\n",
       "  </tbody>\n",
       "</table>\n",
       "</div>"
      ],
      "text/plain": [
       "      gene_name  fold_change_abs    pvalue  pvalue_corrected  reject\n",
       "0     LOC643837         1.148593  0.413735          0.675195   False\n",
       "1  LOC100130417         1.064871  0.653429          0.836406   False\n",
       "2        SAMD11         1.278517  0.079556          0.288873   False\n",
       "3         NOC2L         1.092635  0.287581          0.563007   False\n",
       "4        KLHL17         1.036574  0.463292          0.712214   False"
      ]
     },
     "execution_count": 59,
     "metadata": {},
     "output_type": "execute_result"
    }
   ],
   "source": [
    "raw_early_cancer_bh = get_pvalues(early,cancer,  0.025, 'fdr_bh')\n",
    "raw_early_cancer_bh.head()"
   ]
  },
  {
   "cell_type": "code",
   "execution_count": 60,
   "metadata": {},
   "outputs": [
    {
     "data": {
      "text/html": [
       "<div>\n",
       "<style scoped>\n",
       "    .dataframe tbody tr th:only-of-type {\n",
       "        vertical-align: middle;\n",
       "    }\n",
       "\n",
       "    .dataframe tbody tr th {\n",
       "        vertical-align: top;\n",
       "    }\n",
       "\n",
       "    .dataframe thead th {\n",
       "        text-align: right;\n",
       "    }\n",
       "</style>\n",
       "<table border=\"1\" class=\"dataframe\">\n",
       "  <thead>\n",
       "    <tr style=\"text-align: right;\">\n",
       "      <th></th>\n",
       "      <th>gene_name</th>\n",
       "      <th>fold_change_abs</th>\n",
       "      <th>pvalue</th>\n",
       "      <th>pvalue_corrected</th>\n",
       "      <th>reject</th>\n",
       "    </tr>\n",
       "  </thead>\n",
       "  <tbody>\n",
       "    <tr>\n",
       "      <td>8</td>\n",
       "      <td>ISG15</td>\n",
       "      <td>2.458867</td>\n",
       "      <td>7.402400e-04</td>\n",
       "      <td>0.017556</td>\n",
       "      <td>True</td>\n",
       "    </tr>\n",
       "    <tr>\n",
       "      <td>47</td>\n",
       "      <td>GABRD</td>\n",
       "      <td>1.843860</td>\n",
       "      <td>2.276043e-07</td>\n",
       "      <td>0.000086</td>\n",
       "      <td>True</td>\n",
       "    </tr>\n",
       "    <tr>\n",
       "      <td>75</td>\n",
       "      <td>AJAP1</td>\n",
       "      <td>1.567814</td>\n",
       "      <td>7.993294e-04</td>\n",
       "      <td>0.018270</td>\n",
       "      <td>True</td>\n",
       "    </tr>\n",
       "    <tr>\n",
       "      <td>104</td>\n",
       "      <td>CA6</td>\n",
       "      <td>1.736762</td>\n",
       "      <td>7.806213e-04</td>\n",
       "      <td>0.018078</td>\n",
       "      <td>True</td>\n",
       "    </tr>\n",
       "    <tr>\n",
       "      <td>127</td>\n",
       "      <td>MASP2</td>\n",
       "      <td>1.750200</td>\n",
       "      <td>9.522413e-05</td>\n",
       "      <td>0.005049</td>\n",
       "      <td>True</td>\n",
       "    </tr>\n",
       "  </tbody>\n",
       "</table>\n",
       "</div>"
      ],
      "text/plain": [
       "    gene_name  fold_change_abs        pvalue  pvalue_corrected  reject\n",
       "8       ISG15         2.458867  7.402400e-04          0.017556    True\n",
       "47      GABRD         1.843860  2.276043e-07          0.000086    True\n",
       "75      AJAP1         1.567814  7.993294e-04          0.018270    True\n",
       "104       CA6         1.736762  7.806213e-04          0.018078    True\n",
       "127     MASP2         1.750200  9.522413e-05          0.005049    True"
      ]
     },
     "execution_count": 60,
     "metadata": {},
     "output_type": "execute_result"
    }
   ],
   "source": [
    "df_early_cancer_bh = raw_early_cancer_bh.loc[(raw_early_cancer_bh['reject'] == True) & (raw_early_cancer_bh['fold_change_abs']> 1.5)]\n",
    "df_early_cancer_bh.head()"
   ]
  },
  {
   "cell_type": "code",
   "execution_count": 61,
   "metadata": {},
   "outputs": [
    {
     "name": "stdout",
     "output_type": "stream",
     "text": [
      "<class 'pandas.core.frame.DataFrame'>\n",
      "Int64Index: 524 entries, 8 to 15703\n",
      "Data columns (total 5 columns):\n",
      "gene_name           524 non-null object\n",
      "fold_change_abs     524 non-null float64\n",
      "pvalue              524 non-null float64\n",
      "pvalue_corrected    524 non-null float64\n",
      "reject              524 non-null bool\n",
      "dtypes: bool(1), float64(3), object(1)\n",
      "memory usage: 21.0+ KB\n"
     ]
    }
   ],
   "source": [
    "df_early_cancer_bh.info()"
   ]
  },
  {
   "cell_type": "code",
   "execution_count": null,
   "metadata": {},
   "outputs": [],
   "source": []
  }
 ],
 "metadata": {
  "kernelspec": {
   "display_name": "Python 3",
   "language": "python",
   "name": "python3"
  },
  "language_info": {
   "codemirror_mode": {
    "name": "ipython",
    "version": 3
   },
   "file_extension": ".py",
   "mimetype": "text/x-python",
   "name": "python",
   "nbconvert_exporter": "python",
   "pygments_lexer": "ipython3",
   "version": "3.7.4"
  }
 },
 "nbformat": 4,
 "nbformat_minor": 2
}
