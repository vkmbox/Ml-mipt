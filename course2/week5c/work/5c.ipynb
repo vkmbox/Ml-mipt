{
 "cells": [
  {
   "cell_type": "code",
   "execution_count": 1,
   "metadata": {
    "collapsed": true
   },
   "outputs": [],
   "source": [
    "from sklearn import datasets\n",
    "digits = datasets.load_digits()"
   ]
  },
  {
   "cell_type": "code",
   "execution_count": 10,
   "metadata": {},
   "outputs": [],
   "source": [
    "#digits.data #.tofile(\"E:\\\\MyProj\\\\Courcera\\\\Ml-mipt\\\\course2\\\\week5c\\\\work_java\\\\data.csv\", sep=\";\", format=\"%s\")\n",
    "digits.target.tofile(\"E:\\\\MyProj\\\\Courcera\\\\Ml-mipt\\\\course2\\\\week5c\\\\work_java\\\\target.csv\", sep=\";\", format=\"%s\")"
   ]
  },
  {
   "cell_type": "code",
   "execution_count": 11,
   "metadata": {
    "collapsed": true
   },
   "outputs": [],
   "source": [
    "from sklearn.model_selection import train_test_split\n",
    "X_train, X_test, y_train, y_test = train_test_split(digits.data, digits.target, test_size=0.25, random_state=0)"
   ]
  },
  {
   "cell_type": "code",
   "execution_count": 21,
   "metadata": {},
   "outputs": [],
   "source": [
    "X_train.tofile(\"E:\\\\MyProj\\\\Courcera\\\\Ml-mipt\\\\course2\\\\week5c\\\\work_java\\\\xtrain.csv\", sep=\";\", format=\"%s\")\n",
    "X_test.tofile(\"E:\\\\MyProj\\\\Courcera\\\\Ml-mipt\\\\course2\\\\week5c\\\\work_java\\\\xtest.csv\", sep=\";\", format=\"%s\")\n",
    "y_train.tofile(\"E:\\\\MyProj\\\\Courcera\\\\Ml-mipt\\\\course2\\\\week5c\\\\work_java\\\\ytrain.csv\", sep=\";\", format=\"%s\")\n",
    "y_test.tofile(\"E:\\\\MyProj\\\\Courcera\\\\Ml-mipt\\\\course2\\\\week5c\\\\work_java\\\\ytest.csv\", sep=\";\", format=\"%s\")"
   ]
  },
  {
   "cell_type": "code",
   "execution_count": null,
   "metadata": {
    "collapsed": true
   },
   "outputs": [],
   "source": []
  }
 ],
 "metadata": {
  "kernelspec": {
   "display_name": "Python 3",
   "language": "python",
   "name": "python3"
  },
  "language_info": {
   "codemirror_mode": {
    "name": "ipython",
    "version": 3
   },
   "file_extension": ".py",
   "mimetype": "text/x-python",
   "name": "python",
   "nbconvert_exporter": "python",
   "pygments_lexer": "ipython3",
   "version": "3.6.3"
  }
 },
 "nbformat": 4,
 "nbformat_minor": 2
}
