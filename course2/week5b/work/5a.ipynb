{
 "cells": [
  {
   "cell_type": "code",
   "execution_count": 1,
   "metadata": {
    "collapsed": true
   },
   "outputs": [],
   "source": [
    "from sklearn import datasets"
   ]
  },
  {
   "cell_type": "code",
   "execution_count": 8,
   "metadata": {},
   "outputs": [],
   "source": [
    "digits = datasets.load_digits()\n",
    "breast_cancer = datasets.load_breast_cancer()"
   ]
  },
  {
   "cell_type": "code",
   "execution_count": 20,
   "metadata": {},
   "outputs": [
    {
     "data": {
      "text/plain": [
       "array([[  0.,   0.,   5., ...,   0.,   0.,   0.],\n",
       "       [  0.,   0.,   0., ...,  10.,   0.,   0.],\n",
       "       [  0.,   0.,   0., ...,  16.,   9.,   0.],\n",
       "       ..., \n",
       "       [  0.,   0.,   1., ...,   6.,   0.,   0.],\n",
       "       [  0.,   0.,   2., ...,  12.,   0.,   0.],\n",
       "       [  0.,   0.,  10., ...,  12.,   1.,   0.]])"
      ]
     },
     "execution_count": 20,
     "metadata": {},
     "output_type": "execute_result"
    }
   ],
   "source": [
    "digits.data"
   ]
  },
  {
   "cell_type": "code",
   "execution_count": 21,
   "metadata": {
    "collapsed": true
   },
   "outputs": [],
   "source": [
    "from sklearn.model_selection import cross_val_score\n",
    "from sklearn.naive_bayes import BernoulliNB, MultinomialNB, GaussianNB\n",
    "\n",
    "clf = BernoulliNB()\n",
    "scores_11 = cross_val_score(clf, breast_cancer.data, breast_cancer.target)\n",
    "scores_21 = cross_val_score(clf, digits.data, digits.target)\n",
    "clf = MultinomialNB()\n",
    "scores_12 = cross_val_score(clf, breast_cancer.data,breast_cancer.target)\n",
    "scores_22 = cross_val_score(clf, digits.data, digits.target)\n",
    "clf = GaussianNB()\n",
    "scores_13 = cross_val_score(clf, breast_cancer.data,breast_cancer.target)\n",
    "scores_23 = cross_val_score(clf, digits.data, digits.target)"
   ]
  },
  {
   "cell_type": "code",
   "execution_count": 23,
   "metadata": {},
   "outputs": [
    {
     "name": "stdout",
     "output_type": "stream",
     "text": [
      "For breast_cancer: Bernoulli - 0.6274204028589994, Multinomial - 0.8945790401930752, Gaussian - 0.9367492806089297\n",
      "For digits: Bernoulli - 0.8258236507780582, Multinomial - 0.8708771489735053, Gaussian - 0.8186003803550138\n"
     ]
    }
   ],
   "source": [
    "print(\"For breast_cancer: Bernoulli - {}, Multinomial - {}, Gaussian - {}\".format(scores_11.mean(), scores_12.mean(), scores_13.mean())) \n",
    "print(\"For digits: Bernoulli - {}, Multinomial - {}, Gaussian - {}\".format(scores_21.mean(), scores_22.mean(), scores_23.mean())) \n",
    "\n"
   ]
  },
  {
   "cell_type": "code",
   "execution_count": null,
   "metadata": {
    "collapsed": true
   },
   "outputs": [],
   "source": []
  }
 ],
 "metadata": {
  "kernelspec": {
   "display_name": "Python 3",
   "language": "python",
   "name": "python3"
  },
  "language_info": {
   "codemirror_mode": {
    "name": "ipython",
    "version": 3
   },
   "file_extension": ".py",
   "mimetype": "text/x-python",
   "name": "python",
   "nbconvert_exporter": "python",
   "pygments_lexer": "ipython3",
   "version": "3.6.3"
  }
 },
 "nbformat": 4,
 "nbformat_minor": 2
}
