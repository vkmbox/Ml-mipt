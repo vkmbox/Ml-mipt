{
 "cells": [
  {
   "cell_type": "code",
   "execution_count": 1,
   "metadata": {},
   "outputs": [],
   "source": [
    "import pandas as pd\n",
    "import statsmodels.api as sm\n",
    "import matplotlib.pyplot as plt\n",
    "from calendar import monthrange"
   ]
  },
  {
   "cell_type": "code",
   "execution_count": 2,
   "metadata": {},
   "outputs": [
    {
     "data": {
      "text/html": [
       "<div>\n",
       "<style scoped>\n",
       "    .dataframe tbody tr th:only-of-type {\n",
       "        vertical-align: middle;\n",
       "    }\n",
       "\n",
       "    .dataframe tbody tr th {\n",
       "        vertical-align: top;\n",
       "    }\n",
       "\n",
       "    .dataframe thead th {\n",
       "        text-align: right;\n",
       "    }\n",
       "</style>\n",
       "<table border=\"1\" class=\"dataframe\">\n",
       "  <thead>\n",
       "    <tr style=\"text-align: right;\">\n",
       "      <th></th>\n",
       "      <th>month</th>\n",
       "      <th>milk</th>\n",
       "    </tr>\n",
       "  </thead>\n",
       "  <tbody>\n",
       "    <tr>\n",
       "      <td>0</td>\n",
       "      <td>01.01.1962</td>\n",
       "      <td>589</td>\n",
       "    </tr>\n",
       "    <tr>\n",
       "      <td>1</td>\n",
       "      <td>01.02.1962</td>\n",
       "      <td>561</td>\n",
       "    </tr>\n",
       "    <tr>\n",
       "      <td>2</td>\n",
       "      <td>01.03.1962</td>\n",
       "      <td>640</td>\n",
       "    </tr>\n",
       "    <tr>\n",
       "      <td>3</td>\n",
       "      <td>01.04.1962</td>\n",
       "      <td>656</td>\n",
       "    </tr>\n",
       "    <tr>\n",
       "      <td>4</td>\n",
       "      <td>01.05.1962</td>\n",
       "      <td>727</td>\n",
       "    </tr>\n",
       "  </tbody>\n",
       "</table>\n",
       "</div>"
      ],
      "text/plain": [
       "        month  milk\n",
       "0  01.01.1962   589\n",
       "1  01.02.1962   561\n",
       "2  01.03.1962   640\n",
       "3  01.04.1962   656\n",
       "4  01.05.1962   727"
      ]
     },
     "execution_count": 2,
     "metadata": {},
     "output_type": "execute_result"
    }
   ],
   "source": [
    "raw = pd.read_csv(\"h:\\\\MyProj\\\\Courcera\\\\Ml-mipt\\\\course5\\\\week1a\\\\work\\\\monthly-milk-production.csv\", sep=\";\", index_col=False) \n",
    "raw.head()"
   ]
  },
  {
   "cell_type": "code",
   "execution_count": 3,
   "metadata": {
    "scrolled": true
   },
   "outputs": [],
   "source": [
    "#monthrange(raw['month'][0][6:10]) \n",
    "#(raw['month'])[4:7][4:7]\n",
    "def days_in_month(values):\n",
    "    result = []\n",
    "    for value in values :\n",
    "        day, days = monthrange(int(value[6:10]), int(value[3:5]))\n",
    "        result.append(days)\n",
    "    return result"
   ]
  },
  {
   "cell_type": "code",
   "execution_count": 4,
   "metadata": {},
   "outputs": [
    {
     "data": {
      "text/plain": [
       "0      19.000000\n",
       "1      20.035714\n",
       "2      20.645161\n",
       "3      21.866667\n",
       "4      23.451613\n",
       "         ...    \n",
       "163    27.677419\n",
       "164    27.233333\n",
       "165    26.677419\n",
       "166    26.566667\n",
       "167    27.193548\n",
       "Name: milk, Length: 168, dtype: float64"
      ]
     },
     "execution_count": 4,
     "metadata": {},
     "output_type": "execute_result"
    }
   ],
   "source": [
    "zz = raw['milk']/days_in_month(raw['month'])\n",
    "zz"
   ]
  },
  {
   "cell_type": "code",
   "execution_count": 5,
   "metadata": {},
   "outputs": [
    {
     "data": {
      "image/png": "[encoded data removed]",
      "text/plain": [
       "<Figure size 1080x216 with 1 Axes>"
      ]
     },
     "metadata": {
      "needs_background": "light"
     },
     "output_type": "display_data"
    }
   ],
   "source": [
    "fig, ax = plt.subplots(figsize=(15, 3))\n",
    "ax.stackplot(raw['month'], raw['milk']/days_in_month(raw['month'])) #, labels=['Eastasia', 'Eurasia', 'Oceania'])\n",
    "#ax.stackplot(year_month(raw['month']), raw['milk']) #, labels=['Eastasia', 'Eurasia', 'Oceania'])\n",
    "#ax.set_xlim(xmin=raw['month'][0], xmax=raw['month'][-1])\n",
    "plt.show()"
   ]
  },
  {
   "cell_type": "markdown",
   "metadata": {},
   "source": [
    "Для ряда со средним дневным количеством молока на корову из предыдущего вопроса давайте с помощью критерия Дики-Фуллера подберём порядок дифференцирования, при котором ряд становится стационарным."
   ]
  },
  {
   "cell_type": "code",
   "execution_count": 6,
   "metadata": {
    "scrolled": true
   },
   "outputs": [
    {
     "data": {
      "text/plain": [
       "1      1.035714\n",
       "2      0.609447\n",
       "3      1.221505\n",
       "4      1.584946\n",
       "5     -0.218280\n",
       "         ...   \n",
       "163   -1.225806\n",
       "164   -0.444086\n",
       "165   -0.555914\n",
       "166   -0.110753\n",
       "167    0.626882\n",
       "Name: daily, Length: 167, dtype: float64"
      ]
     },
     "execution_count": 6,
     "metadata": {},
     "output_type": "execute_result"
    }
   ],
   "source": [
    "raw['daily'] = raw['milk']/days_in_month(raw['month'])\n",
    "daily_diff1 = raw.daily - raw.daily.shift(1)\n",
    "daily_diff1[1:]"
   ]
  },
  {
   "cell_type": "code",
   "execution_count": 7,
   "metadata": {
    "scrolled": true
   },
   "outputs": [
    {
     "data": {
      "text/plain": [
       "(-2.759469476228923,\n",
       " 0.06430054654174505,\n",
       " 11,\n",
       " 155,\n",
       " {'1%': -3.4732590518613002,\n",
       "  '5%': -2.880374082105334,\n",
       "  '10%': -2.5768120811654525},\n",
       " -1.1539973381055688)"
      ]
     },
     "execution_count": 7,
     "metadata": {},
     "output_type": "execute_result"
    }
   ],
   "source": [
    "sm.tsa.stattools.adfuller(daily_diff1[1:])"
   ]
  },
  {
   "cell_type": "code",
   "execution_count": 8,
   "metadata": {},
   "outputs": [
    {
     "data": {
      "text/plain": [
       "(-2.1594860932888085,\n",
       " 0.22127672658830344,\n",
       " 12,\n",
       " 143,\n",
       " {'1%': -3.4769274060112707,\n",
       "  '5%': -2.8819726324025625,\n",
       "  '10%': -2.577665408088415},\n",
       " -25.225679141303317)"
      ]
     },
     "execution_count": 8,
     "metadata": {},
     "output_type": "execute_result"
    }
   ],
   "source": [
    "daily_diff12 = raw.daily - raw.daily.shift(12)\n",
    "sm.tsa.stattools.adfuller(daily_diff12[12:])"
   ]
  },
  {
   "cell_type": "code",
   "execution_count": 9,
   "metadata": {
    "scrolled": true
   },
   "outputs": [
    {
     "data": {
      "text/plain": [
       "(-5.4813263347969245,\n",
       " 2.280845551803768e-06,\n",
       " 11,\n",
       " 143,\n",
       " {'1%': -3.4769274060112707,\n",
       "  '5%': -2.8819726324025625,\n",
       "  '10%': -2.577665408088415},\n",
       " -20.905137509892256)"
      ]
     },
     "execution_count": 9,
     "metadata": {},
     "output_type": "execute_result"
    }
   ],
   "source": [
    "daily_diff12x = daily_diff12[12:]\n",
    "daily_diff1x = daily_diff12x - daily_diff12x.shift(1)\n",
    "#daily_diff1x[1:]\n",
    "sm.tsa.stattools.adfuller(daily_diff1x[1:])"
   ]
  },
  {
   "cell_type": "markdown",
   "metadata": {},
   "source": [
    "Для стационарного ряда из предыдущего вопроса (продифференцированного столько раз, сколько вы посчитали нужным) постройте график автокорреляционной функции. Это можно cделать так:"
   ]
  },
  {
   "cell_type": "code",
   "execution_count": 10,
   "metadata": {
    "scrolled": true
   },
   "outputs": [
    {
     "data": {
      "image/png": "[encoded data removed]",
      "text/plain": [
       "<Figure size 432x288 with 1 Axes>"
      ]
     },
     "execution_count": 10,
     "metadata": {},
     "output_type": "execute_result"
    },
    {
     "data": {
      "image/png": "[encoded data removed]",
      "text/plain": [
       "<Figure size 432x288 with 1 Axes>"
      ]
     },
     "metadata": {
      "needs_background": "light"
     },
     "output_type": "display_data"
    }
   ],
   "source": [
    "sm.graphics.tsa.plot_acf(daily_diff1x[1:].values.squeeze(), lags=50)"
   ]
  },
  {
   "cell_type": "markdown",
   "metadata": {},
   "source": [
    "Для того же ряда, что и в предыдущем вопросе, постройте график частичной автокорреляционной функции. Это можно сделать так:"
   ]
  },
  {
   "cell_type": "code",
   "execution_count": 17,
   "metadata": {
    "scrolled": false
   },
   "outputs": [
    {
     "data": {
      "image/png": "[encoded data removed]",
      "text/plain": [
       "<Figure size 432x288 with 1 Axes>"
      ]
     },
     "execution_count": 17,
     "metadata": {},
     "output_type": "execute_result"
    },
    {
     "data": {
      "image/png": "[encoded data removed]",
      "text/plain": [
       "<Figure size 432x288 with 1 Axes>"
      ]
     },
     "metadata": {
      "needs_background": "light"
     },
     "output_type": "display_data"
    }
   ],
   "source": [
    "import statsmodels.api as sm\n",
    "sm.graphics.tsa.plot_pacf(daily_diff1x[1:].values.squeeze(), lags=50)"
   ]
  },
  {
   "cell_type": "code",
   "execution_count": null,
   "metadata": {},
   "outputs": [],
   "source": []
  }
 ],
 "metadata": {
  "kernelspec": {
   "display_name": "Python 3",
   "language": "python",
   "name": "python3"
  },
  "language_info": {
   "codemirror_mode": {
    "name": "ipython",
    "version": 3
   },
   "file_extension": ".py",
   "mimetype": "text/x-python",
   "name": "python",
   "nbconvert_exporter": "python",
   "pygments_lexer": "ipython3",
   "version": "3.7.4"
  }
 },
 "nbformat": 4,
 "nbformat_minor": 2
}
