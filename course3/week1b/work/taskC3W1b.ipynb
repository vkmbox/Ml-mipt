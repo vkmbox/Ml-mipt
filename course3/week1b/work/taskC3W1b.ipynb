{
 "cells": [
  {
   "cell_type": "code",
   "execution_count": 1,
   "metadata": {
    "collapsed": true
   },
   "outputs": [],
   "source": [
    "import pandas as pd\n",
    "import numpy as np\n",
    "from sklearn.cluster import MeanShift"
   ]
  },
  {
   "cell_type": "code",
   "execution_count": 2,
   "metadata": {},
   "outputs": [
    {
     "data": {
      "text/plain": [
       "(1021966, 6)"
      ]
     },
     "execution_count": 2,
     "metadata": {},
     "output_type": "execute_result"
    }
   ],
   "source": [
    "data = pd.read_csv('c:/MyProj/Coursera/Ml-mipt/course3/week1b/work/data/checkins.dat', sep = '|')\n",
    "data_obj = data.select_dtypes(['object'])\n",
    "data[data_obj.columns] = data_obj.apply(lambda x: x.str.strip())\n",
    "data.shape"
   ]
  },
  {
   "cell_type": "code",
   "execution_count": 3,
   "metadata": {},
   "outputs": [
    {
     "data": {
      "text/plain": [
       "(396634, 6)"
      ]
     },
     "execution_count": 3,
     "metadata": {},
     "output_type": "execute_result"
    }
   ],
   "source": [
    "dfA = data.loc[(data['     latitude      '].str.strip() != '' ) & ( data['     longitude     '].str.strip() != '')]\n",
    "dfA.shape\n",
    "#type(data)\n",
    "#list(data.columns.values)\n",
    "#data['     latitude      '].str.strip() == '', data['     latitude      ']\n",
    "#type(data['     latitude      ']) #.trim().notnull()\n",
    "#data_obj = data.select_dtypes(['object'])\n",
    "#data[data_obj.columns] = data_obj.apply(lambda x: x.str.strip())\n",
    "#print(data)"
   ]
  },
  {
   "cell_type": "code",
   "execution_count": 4,
   "metadata": {},
   "outputs": [
    {
     "name": "stdout",
     "output_type": "stream",
     "text": [
      "            latitude            longitude     \n",
      "1               38.8951118         -77.0363658\n",
      "3                33.800745           -84.41052\n",
      "7               45.5234515        -122.6762071\n",
      "9                40.764462         -111.904565\n",
      "10              33.4483771        -112.0740373\n",
      "11              32.2217429         -110.926479\n",
      "12                   40.65              -73.95\n",
      "13              33.4483771        -112.0740373\n",
      "15               33.414768        -111.9093095\n",
      "18              42.3584308         -71.0597732\n",
      "19              33.4483771        -112.0740373\n",
      "20               33.414768        -111.9093095\n",
      "25              33.4483771        -112.0740373\n",
      "26              33.2486638        -111.6342993\n",
      "27              32.8406775        -117.2587935\n",
      "29              34.0522342        -118.2436849\n",
      "34               33.414768        -111.9093095\n",
      "35              33.4483771        -112.0740373\n",
      "38               34.483901        -114.3224548\n",
      "40              34.0489281        -111.0937311\n",
      "41              32.7153292        -117.1572551\n",
      "42              33.4483771        -112.0740373\n",
      "46              38.8951118         -77.0363658\n",
      "47              33.7458511         -117.826166\n",
      "49              34.0961111        -118.1058333\n",
      "50              34.0522342        -118.2436849\n",
      "52               37.629349         -122.400087\n",
      "53               4.5980556         -74.0758333\n",
      "54              33.8041667        -118.1580556\n",
      "55               40.735657         -74.1723667\n",
      "...                    ...                 ...\n",
      "233728          32.6781085        -117.0991967\n",
      "233730          34.0194543        -118.4911912\n",
      "233731          37.3393857        -121.8949555\n",
      "233732               40.65              -73.95\n",
      "233735          43.0097027          -85.520024\n",
      "233736          34.7464809         -92.2895948\n",
      "233737          41.7637111         -72.6850932\n",
      "233738               44.31              -96.79\n",
      "233739          35.2219971        -101.8312969\n",
      "233741           40.740389          -73.983385\n",
      "233742          33.6411316        -117.9186689\n",
      "233743           40.715972          -74.001437\n",
      "233744          41.0339862         -73.7629097\n",
      "233746           27.937801         -82.2859247\n",
      "233749      36.08770792899   -86.6483974456787\n",
      "233751          26.2034071         -98.2300124\n",
      "233753           40.740389          -73.983385\n",
      "233755          40.7684331         -73.5251253\n",
      "233758          42.8666803         -88.3334274\n",
      "233759          40.7048242         -73.6501295\n",
      "233761             43.6525         -79.3816667\n",
      "233765          42.3726399         -71.1096528\n",
      "233769          35.9940329          -78.898619\n",
      "233780          29.7628844         -95.3830615\n",
      "233787          41.8781136         -87.6297982\n",
      "233788              33.575        -117.7255556\n",
      "233789           37.629349         -122.400087\n",
      "233793          29.7628844         -95.3830615\n",
      "233797           32.802955          -96.769923\n",
      "233798          37.7749295        -122.4194155\n",
      "\n",
      "[100000 rows x 2 columns]\n"
     ]
    }
   ],
   "source": [
    "df = dfA.iloc[0:100000,[3,4]]\n",
    "print(df)\n",
    "#data.iloc[0:5,0:5]\n",
    "#df = \n",
    "\n",
    "#data.iloc[:,[3,4]]"
   ]
  },
  {
   "cell_type": "code",
   "execution_count": 5,
   "metadata": {
    "collapsed": true
   },
   "outputs": [],
   "source": [
    "ms = MeanShift(bandwidth=0.1)"
   ]
  },
  {
   "cell_type": "code",
   "execution_count": 6,
   "metadata": {},
   "outputs": [
    {
     "data": {
      "text/plain": [
       "MeanShift(bandwidth=0.1, bin_seeding=False, cluster_all=True, min_bin_freq=1,\n",
       "     n_jobs=1, seeds=None)"
      ]
     },
     "execution_count": 6,
     "metadata": {},
     "output_type": "execute_result"
    }
   ],
   "source": [
    "ms.fit(df)"
   ]
  },
  {
   "cell_type": "code",
   "execution_count": 9,
   "metadata": {},
   "outputs": [
    {
     "name": "stdout",
     "output_type": "stream",
     "text": [
      "[   0    1    2 ..., 3227 3228 3229]\n"
     ]
    }
   ],
   "source": [
    "labels = ms.labels_\n",
    "cluster_centers = ms.cluster_centers_\n",
    "\n",
    "labels_unique = np.unique(labels)\n",
    "n_clusters_ = len(labels_unique)\n",
    "print(labels_unique)"
   ]
  },
  {
   "cell_type": "code",
   "execution_count": 7,
   "metadata": {
    "collapsed": true
   },
   "outputs": [],
   "source": [
    "import math\n",
    "\n",
    "def get_distance(lat_1, lng_1, lat_2, lng_2): \n",
    "    d_lat = lat_2 - lat_1\n",
    "    d_lng = lng_2 - lng_1 \n",
    "\n",
    "    temp = (  \n",
    "         math.sin(d_lat / 2) ** 2 \n",
    "       + math.cos(lat_1) \n",
    "       * math.cos(lat_2) \n",
    "       * math.sin(d_lng / 2) ** 2\n",
    "    )\n",
    "\n",
    "    return 6373.0 * (2 * math.atan2(math.sqrt(temp), math.sqrt(1 - temp)))"
   ]
  },
  {
   "cell_type": "code",
   "execution_count": 17,
   "metadata": {},
   "outputs": [
    {
     "name": "stdout",
     "output_type": "stream",
     "text": [
      "[ 52.37296399   4.89231722]\n"
     ]
    }
   ],
   "source": [
    "lat = np.array([33.751277, 25.867736, 51.503016, 52.378894, 39.366487, -33.868457])\n",
    "lon = np.array([-118.188740, -80.324116, -0.075479, 4.885084, 117.036146, 151.205134])\n",
    "#labels\n",
    "#my_members = labels == 3229\n",
    "#df[my_members,0]\n",
    "dist = 40000\n",
    "num = 0\n",
    "for kk in range(n_clusters_):\n",
    "    cluster_center = cluster_centers[kk]\n",
    "    for nn in range(6):\n",
    "        my_dist = get_distance(lat[nn], lon[nn], cluster_center[0], cluster_center[1])\n",
    "        if (dist > my_dist):\n",
    "            dist = my_dist\n",
    "            num = kk\n",
    "\n",
    "print(cluster_centers[num])"
   ]
  },
  {
   "cell_type": "code",
   "execution_count": null,
   "metadata": {
    "collapsed": true
   },
   "outputs": [],
   "source": []
  }
 ],
 "metadata": {
  "kernelspec": {
   "display_name": "Python 3",
   "language": "python",
   "name": "python3"
  },
  "language_info": {
   "codemirror_mode": {
    "name": "ipython",
    "version": 3
   },
   "file_extension": ".py",
   "mimetype": "text/x-python",
   "name": "python",
   "nbconvert_exporter": "python",
   "pygments_lexer": "ipython3",
   "version": "3.6.3"
  }
 },
 "nbformat": 4,
 "nbformat_minor": 2
}
